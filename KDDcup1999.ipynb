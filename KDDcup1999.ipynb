{
  "nbformat": 4,
  "nbformat_minor": 0,
  "metadata": {
    "colab": {
      "name": "KDDcup1999.ipynb",
      "version": "0.3.2",
      "provenance": []
    },
    "kernelspec": {
      "name": "python3",
      "display_name": "Python 3"
    },
    "accelerator": "GPU"
  },
  "cells": [
    {
      "metadata": {
        "id": "EnowgDtt6KqM",
        "colab_type": "code",
        "colab": {
          "base_uri": "https://localhost:8080/",
          "height": 122
        },
        "outputId": "2b89ca9a-eb87-45b7-cea6-a4717fad8243"
      },
      "cell_type": "code",
      "source": [
        "!pip install xlrd"
      ],
      "execution_count": 2,
      "outputs": [
        {
          "output_type": "stream",
          "text": [
            "Collecting xlrd\n",
            "\u001b[?25l  Downloading https://files.pythonhosted.org/packages/07/e6/e95c4eec6221bfd8528bcc4ea252a850bffcc4be88ebc367e23a1a84b0bb/xlrd-1.1.0-py2.py3-none-any.whl (108kB)\n",
            "\r\u001b[K    9% |███                             | 10kB 5.5MB/s eta 0:00:01\r\u001b[K    18% |██████                          | 20kB 2.2MB/s eta 0:00:01\r\u001b[K    28% |█████████                       | 30kB 2.8MB/s eta 0:00:01\r\u001b[K    37% |████████████                    | 40kB 2.7MB/s eta 0:00:01\r\u001b[K    47% |███████████████                 | 51kB 3.0MB/s eta 0:00:01\r\u001b[K    56% |██████████████████              | 61kB 3.6MB/s eta 0:00:01\r\u001b[K    65% |█████████████████████           | 71kB 3.6MB/s eta 0:00:01\r\u001b[K    75% |████████████████████████        | 81kB 4.1MB/s eta 0:00:01\r\u001b[K    84% |███████████████████████████     | 92kB 3.9MB/s eta 0:00:01\r\u001b[K    94% |██████████████████████████████  | 102kB 4.1MB/s eta 0:00:01\r\u001b[K    100% |████████████████████████████████| 112kB 4.1MB/s \n",
            "\u001b[?25hInstalling collected packages: xlrd\n",
            "Successfully installed xlrd-1.1.0\n"
          ],
          "name": "stdout"
        }
      ]
    },
    {
      "metadata": {
        "id": "AN72n3WZgQJa",
        "colab_type": "code",
        "colab": {}
      },
      "cell_type": "code",
      "source": [
        "#Reading the dataset\n",
        "import pandas as pd\n",
        "import xlrd\n",
        "\n",
        "import matplotlib.pyplot as plt\n",
        "import csv\n",
        "import numpy as np\n",
        "import matplotlib.pyplot as plt \n",
        "%pylab inline \n",
        "data =pd.read_csv(\"KDDCup99.csv\")\n",
        "data.head()"
      ],
      "execution_count": 0,
      "outputs": []
    },
    {
      "metadata": {
        "id": "6A2eSyqCgQJs",
        "colab_type": "code",
        "outputId": "d25bbb0b-8fb5-4aab-ed16-4dc2a1a90817",
        "colab": {
          "base_uri": "https://localhost:8080/",
          "height": 34
        }
      },
      "cell_type": "code",
      "source": [
        "#Number of Rows\n",
        "print(len(data))"
      ],
      "execution_count": 8,
      "outputs": [
        {
          "output_type": "stream",
          "text": [
            "28082\n"
          ],
          "name": "stdout"
        }
      ]
    },
    {
      "metadata": {
        "id": "asVbQ6W_gQJ0",
        "colab_type": "code",
        "outputId": "20e1ca0a-5917-46f9-fa38-0942756a7b5c",
        "colab": {
          "base_uri": "https://localhost:8080/",
          "height": 221
        }
      },
      "cell_type": "code",
      "source": [
        "#Different types of attacks in the database\n",
        "data['label'].value_counts()"
      ],
      "execution_count": 9,
      "outputs": [
        {
          "output_type": "execute_result",
          "data": {
            "text/plain": [
              "normal             24097\n",
              "smurf               3695\n",
              "teardrop              99\n",
              "ipsweep               94\n",
              "guess_passwd          53\n",
              "pod                   20\n",
              "portsweep             17\n",
              "buffer_overflow        2\n",
              "neptune                2\n",
              "loadmodule             1\n",
              "perl                   1\n",
              "Name: label, dtype: int64"
            ]
          },
          "metadata": {
            "tags": []
          },
          "execution_count": 9
        }
      ]
    },
    {
      "metadata": {
        "id": "P-Wb0znQgQJ6",
        "colab_type": "code",
        "colab": {}
      },
      "cell_type": "code",
      "source": [
        "#creating a CSV file with attribute names \n",
        "with open('KDDCup99-dos.csv', 'w',newline='') as out:\n",
        "    writer=csv.writer(out)\n",
        "    writer.writerow([c for c in data.keys()])\n"
      ],
      "execution_count": 0,
      "outputs": []
    },
    {
      "metadata": {
        "id": "00U469MPukaI",
        "colab_type": "code",
        "colab": {}
      },
      "cell_type": "code",
      "source": [
        "a=['back','land','neptune','pod','smurf','teardrop','normal']\n",
        "\n",
        "with open('KDDCup99.csv', 'r') as inp, open('KDDCup99-dos.csv', 'a',newline='') as out:\n",
        "    writer = csv.writer(out)\n",
        "    for row in csv.reader(inp):\n",
        "      #print(row[41])\n",
        "      if row[41] in a:\n",
        "        writer.writerow(row)"
      ],
      "execution_count": 0,
      "outputs": []
    },
    {
      "metadata": {
        "id": "uoDjxOZYgQKD",
        "colab_type": "code",
        "outputId": "3f2592f0-b001-4f1a-b2c1-e8e73836fbc4",
        "colab": {
          "base_uri": "https://localhost:8080/",
          "height": 270
        }
      },
      "cell_type": "code",
      "source": [
        "#Creating new dataframe with modified dataset\n",
        "%pylab inline \n",
        "datapre=pd.read_csv(\"KDDCup99-dos.csv\")\n",
        "datapre.head()"
      ],
      "execution_count": 37,
      "outputs": [
        {
          "output_type": "stream",
          "text": [
            "Populating the interactive namespace from numpy and matplotlib\n"
          ],
          "name": "stdout"
        },
        {
          "output_type": "execute_result",
          "data": {
            "text/html": [
              "<div>\n",
              "<style scoped>\n",
              "    .dataframe tbody tr th:only-of-type {\n",
              "        vertical-align: middle;\n",
              "    }\n",
              "\n",
              "    .dataframe tbody tr th {\n",
              "        vertical-align: top;\n",
              "    }\n",
              "\n",
              "    .dataframe thead th {\n",
              "        text-align: right;\n",
              "    }\n",
              "</style>\n",
              "<table border=\"1\" class=\"dataframe\">\n",
              "  <thead>\n",
              "    <tr style=\"text-align: right;\">\n",
              "      <th></th>\n",
              "      <th>duration</th>\n",
              "      <th>protocol_type</th>\n",
              "      <th>service</th>\n",
              "      <th>flag</th>\n",
              "      <th>src_bytes</th>\n",
              "      <th>dst_bytes</th>\n",
              "      <th>land</th>\n",
              "      <th>wrong_fragment</th>\n",
              "      <th>urgent</th>\n",
              "      <th>hot</th>\n",
              "      <th>...</th>\n",
              "      <th>dst_host_srv_count</th>\n",
              "      <th>dst_host_same_srv_rate</th>\n",
              "      <th>dst_host_diff_srv_rate</th>\n",
              "      <th>dst_host_same_src_port_rate</th>\n",
              "      <th>dst_host_srv_diff_host_rate</th>\n",
              "      <th>dst_host_serror_rate</th>\n",
              "      <th>dst_host_srv_serror_rate</th>\n",
              "      <th>dst_host_rerror_rate</th>\n",
              "      <th>dst_host_srv_rerror_rate</th>\n",
              "      <th>label</th>\n",
              "    </tr>\n",
              "  </thead>\n",
              "  <tbody>\n",
              "    <tr>\n",
              "      <th>0</th>\n",
              "      <td>0</td>\n",
              "      <td>tcp</td>\n",
              "      <td>http</td>\n",
              "      <td>SF</td>\n",
              "      <td>181</td>\n",
              "      <td>5450</td>\n",
              "      <td>0</td>\n",
              "      <td>0</td>\n",
              "      <td>0</td>\n",
              "      <td>0</td>\n",
              "      <td>...</td>\n",
              "      <td>9</td>\n",
              "      <td>1.0</td>\n",
              "      <td>0.0</td>\n",
              "      <td>0.11</td>\n",
              "      <td>0.0</td>\n",
              "      <td>0.0</td>\n",
              "      <td>0.0</td>\n",
              "      <td>0.0</td>\n",
              "      <td>0.0</td>\n",
              "      <td>normal</td>\n",
              "    </tr>\n",
              "    <tr>\n",
              "      <th>1</th>\n",
              "      <td>0</td>\n",
              "      <td>tcp</td>\n",
              "      <td>http</td>\n",
              "      <td>SF</td>\n",
              "      <td>239</td>\n",
              "      <td>486</td>\n",
              "      <td>0</td>\n",
              "      <td>0</td>\n",
              "      <td>0</td>\n",
              "      <td>0</td>\n",
              "      <td>...</td>\n",
              "      <td>19</td>\n",
              "      <td>1.0</td>\n",
              "      <td>0.0</td>\n",
              "      <td>0.05</td>\n",
              "      <td>0.0</td>\n",
              "      <td>0.0</td>\n",
              "      <td>0.0</td>\n",
              "      <td>0.0</td>\n",
              "      <td>0.0</td>\n",
              "      <td>normal</td>\n",
              "    </tr>\n",
              "    <tr>\n",
              "      <th>2</th>\n",
              "      <td>0</td>\n",
              "      <td>tcp</td>\n",
              "      <td>http</td>\n",
              "      <td>SF</td>\n",
              "      <td>235</td>\n",
              "      <td>1337</td>\n",
              "      <td>0</td>\n",
              "      <td>0</td>\n",
              "      <td>0</td>\n",
              "      <td>0</td>\n",
              "      <td>...</td>\n",
              "      <td>29</td>\n",
              "      <td>1.0</td>\n",
              "      <td>0.0</td>\n",
              "      <td>0.03</td>\n",
              "      <td>0.0</td>\n",
              "      <td>0.0</td>\n",
              "      <td>0.0</td>\n",
              "      <td>0.0</td>\n",
              "      <td>0.0</td>\n",
              "      <td>normal</td>\n",
              "    </tr>\n",
              "    <tr>\n",
              "      <th>3</th>\n",
              "      <td>0</td>\n",
              "      <td>tcp</td>\n",
              "      <td>http</td>\n",
              "      <td>SF</td>\n",
              "      <td>219</td>\n",
              "      <td>1337</td>\n",
              "      <td>0</td>\n",
              "      <td>0</td>\n",
              "      <td>0</td>\n",
              "      <td>0</td>\n",
              "      <td>...</td>\n",
              "      <td>39</td>\n",
              "      <td>1.0</td>\n",
              "      <td>0.0</td>\n",
              "      <td>0.03</td>\n",
              "      <td>0.0</td>\n",
              "      <td>0.0</td>\n",
              "      <td>0.0</td>\n",
              "      <td>0.0</td>\n",
              "      <td>0.0</td>\n",
              "      <td>normal</td>\n",
              "    </tr>\n",
              "    <tr>\n",
              "      <th>4</th>\n",
              "      <td>0</td>\n",
              "      <td>tcp</td>\n",
              "      <td>http</td>\n",
              "      <td>SF</td>\n",
              "      <td>217</td>\n",
              "      <td>2032</td>\n",
              "      <td>0</td>\n",
              "      <td>0</td>\n",
              "      <td>0</td>\n",
              "      <td>0</td>\n",
              "      <td>...</td>\n",
              "      <td>49</td>\n",
              "      <td>1.0</td>\n",
              "      <td>0.0</td>\n",
              "      <td>0.02</td>\n",
              "      <td>0.0</td>\n",
              "      <td>0.0</td>\n",
              "      <td>0.0</td>\n",
              "      <td>0.0</td>\n",
              "      <td>0.0</td>\n",
              "      <td>normal</td>\n",
              "    </tr>\n",
              "  </tbody>\n",
              "</table>\n",
              "<p>5 rows × 42 columns</p>\n",
              "</div>"
            ],
            "text/plain": [
              "   duration protocol_type service flag  src_bytes  dst_bytes  land  \\\n",
              "0         0           tcp    http   SF        181       5450     0   \n",
              "1         0           tcp    http   SF        239        486     0   \n",
              "2         0           tcp    http   SF        235       1337     0   \n",
              "3         0           tcp    http   SF        219       1337     0   \n",
              "4         0           tcp    http   SF        217       2032     0   \n",
              "\n",
              "   wrong_fragment  urgent  hot   ...    dst_host_srv_count  \\\n",
              "0               0       0    0   ...                     9   \n",
              "1               0       0    0   ...                    19   \n",
              "2               0       0    0   ...                    29   \n",
              "3               0       0    0   ...                    39   \n",
              "4               0       0    0   ...                    49   \n",
              "\n",
              "   dst_host_same_srv_rate  dst_host_diff_srv_rate  \\\n",
              "0                     1.0                     0.0   \n",
              "1                     1.0                     0.0   \n",
              "2                     1.0                     0.0   \n",
              "3                     1.0                     0.0   \n",
              "4                     1.0                     0.0   \n",
              "\n",
              "   dst_host_same_src_port_rate  dst_host_srv_diff_host_rate  \\\n",
              "0                         0.11                          0.0   \n",
              "1                         0.05                          0.0   \n",
              "2                         0.03                          0.0   \n",
              "3                         0.03                          0.0   \n",
              "4                         0.02                          0.0   \n",
              "\n",
              "   dst_host_serror_rate  dst_host_srv_serror_rate  dst_host_rerror_rate  \\\n",
              "0                   0.0                       0.0                   0.0   \n",
              "1                   0.0                       0.0                   0.0   \n",
              "2                   0.0                       0.0                   0.0   \n",
              "3                   0.0                       0.0                   0.0   \n",
              "4                   0.0                       0.0                   0.0   \n",
              "\n",
              "   dst_host_srv_rerror_rate   label  \n",
              "0                       0.0  normal  \n",
              "1                       0.0  normal  \n",
              "2                       0.0  normal  \n",
              "3                       0.0  normal  \n",
              "4                       0.0  normal  \n",
              "\n",
              "[5 rows x 42 columns]"
            ]
          },
          "metadata": {
            "tags": []
          },
          "execution_count": 37
        }
      ]
    },
    {
      "metadata": {
        "id": "gY6nmxmtxSNI",
        "colab_type": "code",
        "colab": {}
      },
      "cell_type": "code",
      "source": [
        "def class_counts(rows):\n",
        "    counts = {}  # a dictionary of label -> count.\n",
        "    for row in rows:\n",
        "        # in our dataset format, the label is always the last column\n",
        "        label = row\n",
        "        if label not in counts:\n",
        "            counts[label] = 0\n",
        "        counts[label] += 1\n",
        "    return counts"
      ],
      "execution_count": 0,
      "outputs": []
    },
    {
      "metadata": {
        "id": "gTT5tSA0gQKM",
        "colab_type": "code",
        "outputId": "348694fa-d760-4f32-bc65-027367c41f10",
        "colab": {
          "base_uri": "https://localhost:8080/",
          "height": 529
        }
      },
      "cell_type": "code",
      "source": [
        "#Drawing a bar graph to classify DOS attacks in connections\n",
        "objects = classes.keys()\n",
        "y_pos = np.arange(len(objects))\n",
        "print(len(objects))\n",
        "performance = [classes[val] for val in classes.keys()]\n",
        "plt.bar(y_pos, performance, align='center', alpha=0.5)\n",
        "plt.xticks(y_pos, objects)\n",
        "plt.ylabel('No. of connections')\n",
        "plt.title('DOS attacks classification\\n')\n",
        "fig = plt.gcf()\n",
        "fig.set_size_inches(8,8)\n",
        "plt.show()"
      ],
      "execution_count": 60,
      "outputs": [
        {
          "output_type": "stream",
          "text": [
            "7\n"
          ],
          "name": "stdout"
        },
        {
          "output_type": "display_data",
          "data": {
            "image/png": "[encoded data removed]",
            "text/plain": [
              "<matplotlib.figure.Figure at 0x7fd615dfb320>"
            ]
          },
          "metadata": {
            "tags": []
          }
        }
      ]
    },
    {
      "metadata": {
        "id": "CODt-RTjgQKR",
        "colab_type": "code",
        "outputId": "ea412399-2f1f-4063-d653-8cab15e8daac",
        "colab": {
          "base_uri": "https://localhost:8080/",
          "height": 253
        }
      },
      "cell_type": "code",
      "source": [
        "#Mapping of Categorical data in the dataset\n",
        "cleanup_nums = {\"protocol_type\":     {\"tcp\": 1, \"icmp\": 2, \"udp\": 3},\n",
        "                \"service\": {\"vmnet\": 1, \"smtp\": 2, \"ntp_u\":3, \"shell\":4, \"kshell\":5, \"aol\":6, \"imap4\":7, \"urh_i\":8, \"netbios_ssn\":9,\n",
        "                           \"tftp_u\":10, \"mtp\":11, \"uucp\":12, \"nnsp\":13, \"echo\":14, \"tim_i\":15, \"ssh\":16, \"iso_tsap\":17, \"time\":18,\n",
        "                           \"netbios_ns\":19,\"systat\":20, \"hostnames\":21, \"login\":22, \"efs\":23, \"supdup\":24, \"http_8001\":25, \"courier\":26,\n",
        "                           \"ctf\":27,\"finger\":28,\"nntp\":29,\"ftp_data\":30,\"red_i\":31,\"ldap\":32,\"http\":33,\"ftp\":34,\"pm_dump\":35,\"exec\":36,\n",
        "                           \"klogin\":37,\"auth\":38,\"netbios_dgm\":39,\"other\":40,\"link\":41,\"X11\":42,\"discard\":43,\"private\":44,\"remote_job\":45,\n",
        "                           \"IRC\":46,\"daytime\":47,\"pop_3\":48,\"pop_2\":49,\"gopher\":50,\"sunrpc\":51,\"name\":52,\"rje\":53,\"domain\":54,\"uucp_path\":55,\n",
        "                           \"http_2784\":56,\"Z39_50\":57,\"domain_u\":58,\"csnet_ns\":59,\"whois\":60,\"eco_i\":61,\"bgp\":62,\"sql_net\":63,\"printer\":64,\n",
        "                           \"telnet\":65,\"ecr_i\":66,\"urp_i\":67,\"netstat\":68,\"http_443\":69,\"harvest\":70},\n",
        "               \"flag\":{\"RSTR\":1,\"S3\":2,\"SF\":3,\"RSTO\":4,\"SH\":5,\"OTH\":6,\"S2\":7,\"RSTOS0\":8,\"S1\":9,\"S0\":10,\"REJ\":11}}\n",
        "#Replacing the encoded data in the dataset\n",
        "datapre.replace(cleanup_nums, inplace=True)\n",
        "datapre.head()"
      ],
      "execution_count": 61,
      "outputs": [
        {
          "output_type": "execute_result",
          "data": {
            "text/html": [
              "<div>\n",
              "<style scoped>\n",
              "    .dataframe tbody tr th:only-of-type {\n",
              "        vertical-align: middle;\n",
              "    }\n",
              "\n",
              "    .dataframe tbody tr th {\n",
              "        vertical-align: top;\n",
              "    }\n",
              "\n",
              "    .dataframe thead th {\n",
              "        text-align: right;\n",
              "    }\n",
              "</style>\n",
              "<table border=\"1\" class=\"dataframe\">\n",
              "  <thead>\n",
              "    <tr style=\"text-align: right;\">\n",
              "      <th></th>\n",
              "      <th>duration</th>\n",
              "      <th>protocol_type</th>\n",
              "      <th>service</th>\n",
              "      <th>flag</th>\n",
              "      <th>src_bytes</th>\n",
              "      <th>dst_bytes</th>\n",
              "      <th>land</th>\n",
              "      <th>wrong_fragment</th>\n",
              "      <th>urgent</th>\n",
              "      <th>hot</th>\n",
              "      <th>...</th>\n",
              "      <th>dst_host_srv_count</th>\n",
              "      <th>dst_host_same_srv_rate</th>\n",
              "      <th>dst_host_diff_srv_rate</th>\n",
              "      <th>dst_host_same_src_port_rate</th>\n",
              "      <th>dst_host_srv_diff_host_rate</th>\n",
              "      <th>dst_host_serror_rate</th>\n",
              "      <th>dst_host_srv_serror_rate</th>\n",
              "      <th>dst_host_rerror_rate</th>\n",
              "      <th>dst_host_srv_rerror_rate</th>\n",
              "      <th>label</th>\n",
              "    </tr>\n",
              "  </thead>\n",
              "  <tbody>\n",
              "    <tr>\n",
              "      <th>0</th>\n",
              "      <td>0</td>\n",
              "      <td>1</td>\n",
              "      <td>33</td>\n",
              "      <td>3</td>\n",
              "      <td>181</td>\n",
              "      <td>5450</td>\n",
              "      <td>0</td>\n",
              "      <td>0</td>\n",
              "      <td>0</td>\n",
              "      <td>0</td>\n",
              "      <td>...</td>\n",
              "      <td>9</td>\n",
              "      <td>1.0</td>\n",
              "      <td>0.0</td>\n",
              "      <td>0.11</td>\n",
              "      <td>0.0</td>\n",
              "      <td>0.0</td>\n",
              "      <td>0.0</td>\n",
              "      <td>0.0</td>\n",
              "      <td>0.0</td>\n",
              "      <td>normal</td>\n",
              "    </tr>\n",
              "    <tr>\n",
              "      <th>1</th>\n",
              "      <td>0</td>\n",
              "      <td>1</td>\n",
              "      <td>33</td>\n",
              "      <td>3</td>\n",
              "      <td>239</td>\n",
              "      <td>486</td>\n",
              "      <td>0</td>\n",
              "      <td>0</td>\n",
              "      <td>0</td>\n",
              "      <td>0</td>\n",
              "      <td>...</td>\n",
              "      <td>19</td>\n",
              "      <td>1.0</td>\n",
              "      <td>0.0</td>\n",
              "      <td>0.05</td>\n",
              "      <td>0.0</td>\n",
              "      <td>0.0</td>\n",
              "      <td>0.0</td>\n",
              "      <td>0.0</td>\n",
              "      <td>0.0</td>\n",
              "      <td>normal</td>\n",
              "    </tr>\n",
              "    <tr>\n",
              "      <th>2</th>\n",
              "      <td>0</td>\n",
              "      <td>1</td>\n",
              "      <td>33</td>\n",
              "      <td>3</td>\n",
              "      <td>235</td>\n",
              "      <td>1337</td>\n",
              "      <td>0</td>\n",
              "      <td>0</td>\n",
              "      <td>0</td>\n",
              "      <td>0</td>\n",
              "      <td>...</td>\n",
              "      <td>29</td>\n",
              "      <td>1.0</td>\n",
              "      <td>0.0</td>\n",
              "      <td>0.03</td>\n",
              "      <td>0.0</td>\n",
              "      <td>0.0</td>\n",
              "      <td>0.0</td>\n",
              "      <td>0.0</td>\n",
              "      <td>0.0</td>\n",
              "      <td>normal</td>\n",
              "    </tr>\n",
              "    <tr>\n",
              "      <th>3</th>\n",
              "      <td>0</td>\n",
              "      <td>1</td>\n",
              "      <td>33</td>\n",
              "      <td>3</td>\n",
              "      <td>219</td>\n",
              "      <td>1337</td>\n",
              "      <td>0</td>\n",
              "      <td>0</td>\n",
              "      <td>0</td>\n",
              "      <td>0</td>\n",
              "      <td>...</td>\n",
              "      <td>39</td>\n",
              "      <td>1.0</td>\n",
              "      <td>0.0</td>\n",
              "      <td>0.03</td>\n",
              "      <td>0.0</td>\n",
              "      <td>0.0</td>\n",
              "      <td>0.0</td>\n",
              "      <td>0.0</td>\n",
              "      <td>0.0</td>\n",
              "      <td>normal</td>\n",
              "    </tr>\n",
              "    <tr>\n",
              "      <th>4</th>\n",
              "      <td>0</td>\n",
              "      <td>1</td>\n",
              "      <td>33</td>\n",
              "      <td>3</td>\n",
              "      <td>217</td>\n",
              "      <td>2032</td>\n",
              "      <td>0</td>\n",
              "      <td>0</td>\n",
              "      <td>0</td>\n",
              "      <td>0</td>\n",
              "      <td>...</td>\n",
              "      <td>49</td>\n",
              "      <td>1.0</td>\n",
              "      <td>0.0</td>\n",
              "      <td>0.02</td>\n",
              "      <td>0.0</td>\n",
              "      <td>0.0</td>\n",
              "      <td>0.0</td>\n",
              "      <td>0.0</td>\n",
              "      <td>0.0</td>\n",
              "      <td>normal</td>\n",
              "    </tr>\n",
              "  </tbody>\n",
              "</table>\n",
              "<p>5 rows × 42 columns</p>\n",
              "</div>"
            ],
            "text/plain": [
              "   duration  protocol_type  service  flag  src_bytes  dst_bytes  land  \\\n",
              "0         0              1       33     3        181       5450     0   \n",
              "1         0              1       33     3        239        486     0   \n",
              "2         0              1       33     3        235       1337     0   \n",
              "3         0              1       33     3        219       1337     0   \n",
              "4         0              1       33     3        217       2032     0   \n",
              "\n",
              "   wrong_fragment  urgent  hot   ...    dst_host_srv_count  \\\n",
              "0               0       0    0   ...                     9   \n",
              "1               0       0    0   ...                    19   \n",
              "2               0       0    0   ...                    29   \n",
              "3               0       0    0   ...                    39   \n",
              "4               0       0    0   ...                    49   \n",
              "\n",
              "   dst_host_same_srv_rate  dst_host_diff_srv_rate  \\\n",
              "0                     1.0                     0.0   \n",
              "1                     1.0                     0.0   \n",
              "2                     1.0                     0.0   \n",
              "3                     1.0                     0.0   \n",
              "4                     1.0                     0.0   \n",
              "\n",
              "   dst_host_same_src_port_rate  dst_host_srv_diff_host_rate  \\\n",
              "0                         0.11                          0.0   \n",
              "1                         0.05                          0.0   \n",
              "2                         0.03                          0.0   \n",
              "3                         0.03                          0.0   \n",
              "4                         0.02                          0.0   \n",
              "\n",
              "   dst_host_serror_rate  dst_host_srv_serror_rate  dst_host_rerror_rate  \\\n",
              "0                   0.0                       0.0                   0.0   \n",
              "1                   0.0                       0.0                   0.0   \n",
              "2                   0.0                       0.0                   0.0   \n",
              "3                   0.0                       0.0                   0.0   \n",
              "4                   0.0                       0.0                   0.0   \n",
              "\n",
              "   dst_host_srv_rerror_rate   label  \n",
              "0                       0.0  normal  \n",
              "1                       0.0  normal  \n",
              "2                       0.0  normal  \n",
              "3                       0.0  normal  \n",
              "4                       0.0  normal  \n",
              "\n",
              "[5 rows x 42 columns]"
            ]
          },
          "metadata": {
            "tags": []
          },
          "execution_count": 61
        }
      ]
    },
    {
      "metadata": {
        "id": "hypnAuFTgQKV",
        "colab_type": "code",
        "outputId": "a005e1b9-b995-434f-b6d5-894da161b19c",
        "colab": {
          "base_uri": "https://localhost:8080/",
          "height": 343
        }
      },
      "cell_type": "code",
      "source": [
        "#Replacing all the types of DOS attacks as 1 and others as 0\n",
        "datapre['label'][datapre['label']!='normal'] = 'attack'\n",
        "datapre['label'][datapre['label']=='normal'] = 0\n",
        "datapre['label'][datapre['label']=='attack'] = 1\n",
        "datapre[['label']] = datapre[['label']].apply(pd.to_numeric)\n",
        "datapre['label'].value_counts()"
      ],
      "execution_count": 62,
      "outputs": [
        {
          "output_type": "stream",
          "text": [
            "/usr/local/lib/python3.6/dist-packages/ipykernel_launcher.py:1: SettingWithCopyWarning: \n",
            "A value is trying to be set on a copy of a slice from a DataFrame\n",
            "\n",
            "See the caveats in the documentation: http://pandas.pydata.org/pandas-docs/stable/indexing.html#indexing-view-versus-copy\n",
            "  \"\"\"Entry point for launching an IPython kernel.\n",
            "/usr/local/lib/python3.6/dist-packages/ipykernel_launcher.py:2: SettingWithCopyWarning: \n",
            "A value is trying to be set on a copy of a slice from a DataFrame\n",
            "\n",
            "See the caveats in the documentation: http://pandas.pydata.org/pandas-docs/stable/indexing.html#indexing-view-versus-copy\n",
            "  \n",
            "/usr/local/lib/python3.6/dist-packages/ipykernel_launcher.py:3: SettingWithCopyWarning: \n",
            "A value is trying to be set on a copy of a slice from a DataFrame\n",
            "\n",
            "See the caveats in the documentation: http://pandas.pydata.org/pandas-docs/stable/indexing.html#indexing-view-versus-copy\n",
            "  This is separate from the ipykernel package so we can avoid doing imports until\n"
          ],
          "name": "stderr"
        },
        {
          "output_type": "execute_result",
          "data": {
            "text/plain": [
              "1    391458\n",
              "0     97277\n",
              "Name: label, dtype: int64"
            ]
          },
          "metadata": {
            "tags": []
          },
          "execution_count": 62
        }
      ]
    },
    {
      "metadata": {
        "id": "aFNCIL3YgQKc",
        "colab_type": "code",
        "outputId": "0483fedf-1bac-44d7-ce82-54d73b715800",
        "colab": {
          "base_uri": "https://localhost:8080/",
          "height": 122
        }
      },
      "cell_type": "code",
      "source": [
        "#Sampling 25% of the data without replacement\n",
        "from sklearn.cross_validation import train_test_split\n",
        "# Generate the sampleset from training set.  Set random_state to be able to replicate results.\n",
        "sampleset1 = datapre.sample(frac=0.5, random_state=1)\n",
        "sampleset = sampleset1.sample(frac=0.5, random_state=1)\n",
        "# Print the shape of sample set.\n",
        "print(sampleset['label'].value_counts())"
      ],
      "execution_count": 64,
      "outputs": [
        {
          "output_type": "stream",
          "text": [
            "/usr/local/lib/python3.6/dist-packages/sklearn/cross_validation.py:41: DeprecationWarning: This module was deprecated in version 0.18 in favor of the model_selection module into which all the refactored classes and functions are moved. Also note that the interface of the new CV iterators are different from that of this module. This module will be removed in 0.20.\n",
            "  \"This module will be removed in 0.20.\", DeprecationWarning)\n"
          ],
          "name": "stderr"
        },
        {
          "output_type": "stream",
          "text": [
            "1    97754\n",
            "0    24430\n",
            "Name: label, dtype: int64\n"
          ],
          "name": "stdout"
        }
      ]
    },
    {
      "metadata": {
        "id": "l8pVzbJrgQKi",
        "colab_type": "code",
        "colab": {}
      },
      "cell_type": "code",
      "source": [
        "#We will work with this dataset with the x feature-object matrix and values of the y target variable.\n",
        "array=sampleset.values\n",
        "x=array[:,0:41]\n",
        "y=array[:,41]"
      ],
      "execution_count": 0,
      "outputs": []
    },
    {
      "metadata": {
        "id": "YuyMbB5vgQKl",
        "colab_type": "code",
        "colab": {}
      },
      "cell_type": "code",
      "source": [
        "#Cross validation\n",
        "from sklearn import cross_validation\n",
        "from sklearn.metrics import confusion_matrix\n",
        "from sklearn.metrics import classification_report\n",
        "## Spliting of training dataset into 70% training data and 30% testing data randomly\n",
        "features_train, features_test, labels_train, labels_test = cross_validation.train_test_split(x, y, test_size=0.3, random_state=42)"
      ],
      "execution_count": 0,
      "outputs": []
    },
    {
      "metadata": {
        "id": "wU555XyCgQKo",
        "colab_type": "code",
        "outputId": "a952b0cb-24a2-424f-8361-f66740bce5a9",
        "colab": {
          "base_uri": "https://localhost:8080/",
          "height": 204
        }
      },
      "cell_type": "code",
      "source": [
        "#Naive Bayes Classifier\n",
        "from sklearn import metrics\n",
        "from sklearn import tree\n",
        "from sklearn.naive_bayes import GaussianNB\n",
        "from sklearn.metrics import accuracy_score\n",
        "from sklearn.metrics import classification_report\n",
        "from sklearn.metrics import confusion_matrix\n",
        "from sklearn.metrics import mean_squared_error\n",
        "clf = GaussianNB()\n",
        "clf.fit(features_train, labels_train)\n",
        "prediction = clf.predict(features_test)\n",
        "acc=accuracy_score(prediction, labels_test)\n",
        "print(\"------------------------------------------\")\n",
        "print(\"Naive_Bayes Accuracy = \",acc*100,\" %\")\n",
        "matrix = confusion_matrix(labels_test, prediction)\n",
        "print(matrix)\n",
        "report = classification_report(labels_test, prediction)\n",
        "print(report)"
      ],
      "execution_count": 67,
      "outputs": [
        {
          "output_type": "stream",
          "text": [
            "------------------------------------------\n",
            "Naive_Bayes Accuracy =  93.88367525098211  %\n",
            "[[ 5183  2049]\n",
            " [  193 29231]]\n",
            "             precision    recall  f1-score   support\n",
            "\n",
            "        0.0       0.96      0.72      0.82      7232\n",
            "        1.0       0.93      0.99      0.96     29424\n",
            "\n",
            "avg / total       0.94      0.94      0.94     36656\n",
            "\n"
          ],
          "name": "stdout"
        }
      ]
    },
    {
      "metadata": {
        "id": "rbWM1Eizx8RM",
        "colab_type": "code",
        "outputId": "5eaa8c84-f673-4d35-f6fa-9cae23425c96",
        "colab": {
          "base_uri": "https://localhost:8080/",
          "height": 294
        }
      },
      "cell_type": "code",
      "source": [
        "from sklearn.metrics import roc_curve\n",
        "from sklearn.metrics import auc\n",
        "from sklearn import metrics\n",
        "fpr, tpr, threshold = metrics.roc_curve(labels_test, prediction)\n",
        "roc_auc = metrics.auc(fpr, tpr)\n",
        "import matplotlib.pyplot as plt\n",
        "plt.title('Receiver Operating Characteristic')\n",
        "plt.plot(fpr, tpr, 'b', label = 'AUC = %0.2f' % roc_auc)\n",
        "plt.legend(loc = 'lower right')\n",
        "plt.plot([0, 1], [0, 1],'r--')\n",
        "plt.xlim([0, 1])\n",
        "plt.ylim([0, 1])\n",
        "plt.ylabel('True Positive Rate')\n",
        "plt.xlabel('False Positive Rate')\n",
        "plt.show()\n"
      ],
      "execution_count": 68,
      "outputs": [
        {
          "output_type": "display_data",
          "data": {
            "image/png": "[encoded data removed]",
            "text/plain": [
              "<matplotlib.figure.Figure at 0x7fd6124f0a90>"
            ]
          },
          "metadata": {
            "tags": []
          }
        }
      ]
    },
    {
      "metadata": {
        "id": "R-gA9nvHgQKt",
        "colab_type": "code",
        "outputId": "83db41f0-bb4f-4eca-c46f-0a5e6552b8ed",
        "colab": {
          "base_uri": "https://localhost:8080/",
          "height": 136
        }
      },
      "cell_type": "code",
      "source": [
        "#Applying Logistic regression to find important features. Higher the rank more important the attribute\n",
        "from sklearn.feature_selection import RFE\n",
        "from sklearn.linear_model import LogisticRegression\n",
        "model = LogisticRegression()\n",
        "rfe = RFE(model, 10)\n",
        "fit = rfe.fit(x, y)\n",
        "print(\"Num Features: \",fit.n_features_)\n",
        "print(\"Selected Features: \",fit.support_)\n",
        "print(\"Ranking of features: \",fit.ranking_)"
      ],
      "execution_count": 69,
      "outputs": [
        {
          "output_type": "stream",
          "text": [
            "Num Features:  10\n",
            "Selected Features:  [False  True False False False False False  True False False False  True\n",
            " False False False False False False False False False False False False\n",
            " False False  True False  True False False False False  True False  True\n",
            " False False  True  True  True]\n",
            "Ranking of features:  [ 6  1 13 16 29 28 14  1 30  2 26  1  5 24 27  8 20 23 18 31 32  7 10 11\n",
            "  9  4  1 19  1 15 12 25 22  1 21  1 17  3  1  1  1]\n"
          ],
          "name": "stdout"
        }
      ]
    },
    {
      "metadata": {
        "id": "QruwCZcQgQKw",
        "colab_type": "code",
        "outputId": "75c53ddc-5fc5-4c13-dc0d-1ad7c6933f7a",
        "colab": {
          "base_uri": "https://localhost:8080/",
          "height": 204
        }
      },
      "cell_type": "code",
      "source": [
        "#Applying Decision tree to find important features. Higher the score more the important the attribute\n",
        "from sklearn import metrics\n",
        "from sklearn.ensemble import ExtraTreesClassifier\n",
        "model = ExtraTreesClassifier()\n",
        "model.fit(x, y)\n",
        "# display the relative importance of each attribute\n",
        "print(model.feature_importances_)"
      ],
      "execution_count": 71,
      "outputs": [
        {
          "output_type": "stream",
          "text": [
            "[3.23165129e-05 4.13238398e-02 4.71454878e-02 3.82101949e-02\n",
            " 7.62354014e-03 7.74873491e-03 8.75385035e-05 7.72510249e-03\n",
            " 0.00000000e+00 7.90337935e-03 0.00000000e+00 1.18294427e-01\n",
            " 5.81623514e-03 4.24055311e-08 0.00000000e+00 2.32705491e-04\n",
            " 0.00000000e+00 0.00000000e+00 8.20275511e-06 0.00000000e+00\n",
            " 0.00000000e+00 7.22958588e-06 1.66418009e-02 1.18212123e-01\n",
            " 2.95569250e-02 2.57647003e-02 6.46724374e-03 5.96540286e-03\n",
            " 7.00295080e-02 2.25231561e-04 2.81066408e-02 1.68851045e-01\n",
            " 6.16590990e-02 1.01842651e-01 1.33431786e-02 3.81853546e-02\n",
            " 2.98336717e-04 1.14529598e-03 1.41149793e-02 1.54003839e-02\n",
            " 2.03112325e-03]\n"
          ],
          "name": "stdout"
        }
      ]
    },
    {
      "metadata": {
        "id": "LHfNJUKHgQK1",
        "colab_type": "code",
        "outputId": "9382f89d-a54f-4947-8b52-0c67eaee7566",
        "colab": {
          "base_uri": "https://localhost:8080/",
          "height": 595
        }
      },
      "cell_type": "code",
      "source": [
        "#Dropping all the other unselecteced attributes from dataset\n",
        "datapre.drop('duration', axis = 1, inplace = True)\n",
        "print(\"Dropping duration\")\n",
        "datapre.drop('flag', axis = 1, inplace = True)\n",
        "print(\"Dropping flag\")\n",
        "datapre.drop('dst_bytes', axis = 1, inplace = True)\n",
        "print(\"Dropping dst_bytes\")\n",
        "datapre.drop('land', axis = 1, inplace = True)\n",
        "print(\"Dropping land\")\n",
        "datapre.drop('wrong_fragment', axis = 1, inplace = True)\n",
        "print(\"Dropping wrong_fragment\")\n",
        "datapre.drop('urgent', axis = 1, inplace = True)\n",
        "print(\"Dropping urgent\")\n",
        "datapre.drop('hot', axis = 1, inplace = True)\n",
        "print(\"Dropping hot\")\n",
        "datapre.drop('num_failed_logins', axis = 1, inplace = True)\n",
        "print(\"Dropping num_failed_logins\")\n",
        "datapre.drop('logged_in', axis = 1, inplace = True)\n",
        "print(\"Dropping logged_in\")\n",
        "datapre.drop('lnum_compromised', axis = 1, inplace = True)\n",
        "print(\"Dropping lnum_compromised\")\n",
        "datapre.drop('lroot_shell', axis = 1, inplace = True)\n",
        "print(\"Dropping lroot_shell\")\n",
        "datapre.drop('lsu_attempted', axis = 1, inplace = True)\n",
        "print(\"Dropping lsu_attempted\")\n",
        "datapre.drop('lnum_root', axis = 1, inplace = True)\n",
        "print(\"Dropping lnum_root\")\n",
        "datapre.drop('lnum_file_creations', axis = 1, inplace = True)\n",
        "print(\"Dropping lnum_file_creations\")\n",
        "datapre.drop('lnum_shells', axis = 1, inplace = True)\n",
        "print(\"Dropping lnum_shells\")\n",
        "datapre.drop('lnum_access_files', axis = 1, inplace = True)\n",
        "print(\"Dropping lnum_access_files\")\n",
        "datapre.drop('lnum_outbound_cmds', axis = 1, inplace = True)\n",
        "print(\"Dropping lnum_outbound_cmds\")\n",
        "datapre.drop('is_host_login', axis = 1, inplace = True)\n",
        "print(\"Dropping is_host_login\")\n",
        "datapre.drop('is_guest_login', axis = 1, inplace = True)\n",
        "print(\"Dropping is_guest_login\")\n",
        "datapre.drop('srv_count', axis = 1, inplace = True)\n",
        "print(\"Dropping srv_count\")\n",
        "datapre.drop('serror_rate', axis = 1, inplace = True)\n",
        "print(\"Dropping serror_rate\")\n",
        "datapre.drop('srv_serror_rate', axis = 1, inplace = True)\n",
        "print(\"Dropping srv_serror_rate\")\n",
        "datapre.drop('rerror_rate', axis = 1, inplace = True)\n",
        "print(\"Dropping rerror_rate\")\n",
        "datapre.drop('srv_rerror_rate', axis = 1, inplace = True)\n",
        "print(\"Dropping srv_rerror_rate\")\n",
        "datapre.drop('diff_srv_rate', axis = 1, inplace = True)\n",
        "print(\"Dropping diff_srv_rate\")\n",
        "datapre.drop('srv_diff_host_rate', axis = 1, inplace = True)\n",
        "print(\"Dropping srv_diff_host_rate\")\n",
        "datapre.drop('dst_host_count', axis = 1, inplace = True)\n",
        "print(\"dst_host_count\")\n",
        "datapre.drop('dst_host_srv_count', axis = 1, inplace = True)\n",
        "print(\"Dropping dst_host_srv_count\")\n",
        "datapre.drop('dst_host_diff_srv_rate', axis = 1, inplace = True)\n",
        "print(\"Dropping dst_host_diff_srv_rate\")\n",
        "datapre.drop('dst_host_srv_diff_host_rate', axis = 1, inplace = True)\n",
        "print(\"Dropping dst_host_srv_diff_host_rate\")\n",
        "datapre.drop('dst_host_serror_rate', axis = 1, inplace = True)\n",
        "print(\"Dropping dst_host_serror_rate\")\n",
        "datapre.drop('dst_host_srv_serror_rate', axis = 1, inplace = True)\n",
        "print(\"Dropping dst_host_srv_serror_rate\")\n",
        "datapre.drop('dst_host_rerror_rate', axis = 1, inplace = True)\n",
        "print(\"Dropping dst_host_rerror_rate\")\n",
        "datapre.drop('dst_host_srv_rerror_rate', axis = 1, inplace = True)\n",
        "print(\"Dropping dst_host_srv_rerror_rate\")"
      ],
      "execution_count": 72,
      "outputs": [
        {
          "output_type": "stream",
          "text": [
            "Dropping duration\n",
            "Dropping flag\n",
            "Dropping dst_bytes\n",
            "Dropping land\n",
            "Dropping wrong_fragment\n",
            "Dropping urgent\n",
            "Dropping hot\n",
            "Dropping num_failed_logins\n",
            "Dropping logged_in\n",
            "Dropping lnum_compromised\n",
            "Dropping lroot_shell\n",
            "Dropping lsu_attempted\n",
            "Dropping lnum_root\n",
            "Dropping lnum_file_creations\n",
            "Dropping lnum_shells\n",
            "Dropping lnum_access_files\n",
            "Dropping lnum_outbound_cmds\n",
            "Dropping is_host_login\n",
            "Dropping is_guest_login\n",
            "Dropping srv_count\n",
            "Dropping serror_rate\n",
            "Dropping srv_serror_rate\n",
            "Dropping rerror_rate\n",
            "Dropping srv_rerror_rate\n",
            "Dropping diff_srv_rate\n",
            "Dropping srv_diff_host_rate\n",
            "dst_host_count\n",
            "Dropping dst_host_srv_count\n",
            "Dropping dst_host_diff_srv_rate\n",
            "Dropping dst_host_srv_diff_host_rate\n",
            "Dropping dst_host_serror_rate\n",
            "Dropping dst_host_srv_serror_rate\n",
            "Dropping dst_host_rerror_rate\n",
            "Dropping dst_host_srv_rerror_rate\n"
          ],
          "name": "stdout"
        }
      ]
    },
    {
      "metadata": {
        "id": "OBLibFiwgQK7",
        "colab_type": "code",
        "outputId": "c2cf89f8-1cf6-404f-bfcd-560fcc63a81d",
        "colab": {
          "base_uri": "https://localhost:8080/",
          "height": 253
        }
      },
      "cell_type": "code",
      "source": [
        "#Writing the extracted data into new file\n",
        "datapre.to_csv(\"KDDCup99DOSONLY.csv\",encoding='utf-8', index=False)\n",
        "datapre.head()"
      ],
      "execution_count": 0,
      "outputs": [
        {
          "output_type": "execute_result",
          "data": {
            "text/html": [
              "<div>\n",
              "<style scoped>\n",
              "    .dataframe tbody tr th:only-of-type {\n",
              "        vertical-align: middle;\n",
              "    }\n",
              "\n",
              "    .dataframe tbody tr th {\n",
              "        vertical-align: top;\n",
              "    }\n",
              "\n",
              "    .dataframe thead th {\n",
              "        text-align: right;\n",
              "    }\n",
              "</style>\n",
              "<table border=\"1\" class=\"dataframe\">\n",
              "  <thead>\n",
              "    <tr style=\"text-align: right;\">\n",
              "      <th></th>\n",
              "      <th>duration</th>\n",
              "      <th>protocol_type</th>\n",
              "      <th>service</th>\n",
              "      <th>flag</th>\n",
              "      <th>src_bytes</th>\n",
              "      <th>dst_bytes</th>\n",
              "      <th>land</th>\n",
              "      <th>wrong_fragment</th>\n",
              "      <th>urgent</th>\n",
              "      <th>hot</th>\n",
              "      <th>...</th>\n",
              "      <th>dst_host_srv_count</th>\n",
              "      <th>dst_host_same_srv_rate</th>\n",
              "      <th>dst_host_diff_srv_rate</th>\n",
              "      <th>dst_host_same_src_port_rate</th>\n",
              "      <th>dst_host_srv_diff_host_rate</th>\n",
              "      <th>dst_host_serror_rate</th>\n",
              "      <th>dst_host_srv_serror_rate</th>\n",
              "      <th>dst_host_rerror_rate</th>\n",
              "      <th>dst_host_srv_rerror_rate</th>\n",
              "      <th>label</th>\n",
              "    </tr>\n",
              "  </thead>\n",
              "  <tbody>\n",
              "    <tr>\n",
              "      <th>0</th>\n",
              "      <td>0</td>\n",
              "      <td>1</td>\n",
              "      <td>33</td>\n",
              "      <td>3</td>\n",
              "      <td>181</td>\n",
              "      <td>5450</td>\n",
              "      <td>0</td>\n",
              "      <td>0</td>\n",
              "      <td>0</td>\n",
              "      <td>0</td>\n",
              "      <td>...</td>\n",
              "      <td>9</td>\n",
              "      <td>1.0</td>\n",
              "      <td>0.0</td>\n",
              "      <td>0.11</td>\n",
              "      <td>0.0</td>\n",
              "      <td>0.0</td>\n",
              "      <td>0.0</td>\n",
              "      <td>0.0</td>\n",
              "      <td>0.0</td>\n",
              "      <td>0</td>\n",
              "    </tr>\n",
              "    <tr>\n",
              "      <th>1</th>\n",
              "      <td>0</td>\n",
              "      <td>1</td>\n",
              "      <td>33</td>\n",
              "      <td>3</td>\n",
              "      <td>239</td>\n",
              "      <td>486</td>\n",
              "      <td>0</td>\n",
              "      <td>0</td>\n",
              "      <td>0</td>\n",
              "      <td>0</td>\n",
              "      <td>...</td>\n",
              "      <td>19</td>\n",
              "      <td>1.0</td>\n",
              "      <td>0.0</td>\n",
              "      <td>0.05</td>\n",
              "      <td>0.0</td>\n",
              "      <td>0.0</td>\n",
              "      <td>0.0</td>\n",
              "      <td>0.0</td>\n",
              "      <td>0.0</td>\n",
              "      <td>0</td>\n",
              "    </tr>\n",
              "    <tr>\n",
              "      <th>2</th>\n",
              "      <td>0</td>\n",
              "      <td>1</td>\n",
              "      <td>33</td>\n",
              "      <td>3</td>\n",
              "      <td>235</td>\n",
              "      <td>1337</td>\n",
              "      <td>0</td>\n",
              "      <td>0</td>\n",
              "      <td>0</td>\n",
              "      <td>0</td>\n",
              "      <td>...</td>\n",
              "      <td>29</td>\n",
              "      <td>1.0</td>\n",
              "      <td>0.0</td>\n",
              "      <td>0.03</td>\n",
              "      <td>0.0</td>\n",
              "      <td>0.0</td>\n",
              "      <td>0.0</td>\n",
              "      <td>0.0</td>\n",
              "      <td>0.0</td>\n",
              "      <td>0</td>\n",
              "    </tr>\n",
              "    <tr>\n",
              "      <th>3</th>\n",
              "      <td>0</td>\n",
              "      <td>1</td>\n",
              "      <td>33</td>\n",
              "      <td>3</td>\n",
              "      <td>219</td>\n",
              "      <td>1337</td>\n",
              "      <td>0</td>\n",
              "      <td>0</td>\n",
              "      <td>0</td>\n",
              "      <td>0</td>\n",
              "      <td>...</td>\n",
              "      <td>39</td>\n",
              "      <td>1.0</td>\n",
              "      <td>0.0</td>\n",
              "      <td>0.03</td>\n",
              "      <td>0.0</td>\n",
              "      <td>0.0</td>\n",
              "      <td>0.0</td>\n",
              "      <td>0.0</td>\n",
              "      <td>0.0</td>\n",
              "      <td>0</td>\n",
              "    </tr>\n",
              "    <tr>\n",
              "      <th>4</th>\n",
              "      <td>0</td>\n",
              "      <td>1</td>\n",
              "      <td>33</td>\n",
              "      <td>3</td>\n",
              "      <td>217</td>\n",
              "      <td>2032</td>\n",
              "      <td>0</td>\n",
              "      <td>0</td>\n",
              "      <td>0</td>\n",
              "      <td>0</td>\n",
              "      <td>...</td>\n",
              "      <td>49</td>\n",
              "      <td>1.0</td>\n",
              "      <td>0.0</td>\n",
              "      <td>0.02</td>\n",
              "      <td>0.0</td>\n",
              "      <td>0.0</td>\n",
              "      <td>0.0</td>\n",
              "      <td>0.0</td>\n",
              "      <td>0.0</td>\n",
              "      <td>0</td>\n",
              "    </tr>\n",
              "  </tbody>\n",
              "</table>\n",
              "<p>5 rows × 42 columns</p>\n",
              "</div>"
            ],
            "text/plain": [
              "   duration  protocol_type  service  flag  src_bytes  dst_bytes  land  \\\n",
              "0         0              1       33     3        181       5450     0   \n",
              "1         0              1       33     3        239        486     0   \n",
              "2         0              1       33     3        235       1337     0   \n",
              "3         0              1       33     3        219       1337     0   \n",
              "4         0              1       33     3        217       2032     0   \n",
              "\n",
              "   wrong_fragment  urgent  hot  ...    dst_host_srv_count  \\\n",
              "0               0       0    0  ...                     9   \n",
              "1               0       0    0  ...                    19   \n",
              "2               0       0    0  ...                    29   \n",
              "3               0       0    0  ...                    39   \n",
              "4               0       0    0  ...                    49   \n",
              "\n",
              "   dst_host_same_srv_rate  dst_host_diff_srv_rate  \\\n",
              "0                     1.0                     0.0   \n",
              "1                     1.0                     0.0   \n",
              "2                     1.0                     0.0   \n",
              "3                     1.0                     0.0   \n",
              "4                     1.0                     0.0   \n",
              "\n",
              "   dst_host_same_src_port_rate  dst_host_srv_diff_host_rate  \\\n",
              "0                         0.11                          0.0   \n",
              "1                         0.05                          0.0   \n",
              "2                         0.03                          0.0   \n",
              "3                         0.03                          0.0   \n",
              "4                         0.02                          0.0   \n",
              "\n",
              "   dst_host_serror_rate  dst_host_srv_serror_rate  dst_host_rerror_rate  \\\n",
              "0                   0.0                       0.0                   0.0   \n",
              "1                   0.0                       0.0                   0.0   \n",
              "2                   0.0                       0.0                   0.0   \n",
              "3                   0.0                       0.0                   0.0   \n",
              "4                   0.0                       0.0                   0.0   \n",
              "\n",
              "   dst_host_srv_rerror_rate  label  \n",
              "0                       0.0      0  \n",
              "1                       0.0      0  \n",
              "2                       0.0      0  \n",
              "3                       0.0      0  \n",
              "4                       0.0      0  \n",
              "\n",
              "[5 rows x 42 columns]"
            ]
          },
          "metadata": {
            "tags": []
          },
          "execution_count": 28
        }
      ]
    },
    {
      "metadata": {
        "id": "M7bXUKZFgQLB",
        "colab_type": "code",
        "outputId": "ed2ff62b-744e-4378-8d0f-07a42ff02a73",
        "colab": {}
      },
      "cell_type": "code",
      "source": [
        "#Sampling 25% of the data with replacement\n",
        "from sklearn.cross_validation import train_test_split\n",
        "# Generate the sampleset from training set.  Set random_state to be able to replicate results.\n",
        "sampleset1 = datapre.sample(frac=0.5, random_state=1)\n",
        "sampleset = sampleset1.sample(frac=0.5, random_state=1)\n",
        "# Print the shape of sample set.\n",
        "sampleset['label'].value_counts()"
      ],
      "execution_count": 0,
      "outputs": [
        {
          "output_type": "execute_result",
          "data": {
            "text/plain": [
              "1    97754\n",
              "0    24430\n",
              "Name: label, dtype: int64"
            ]
          },
          "metadata": {
            "tags": []
          },
          "execution_count": 21
        }
      ]
    },
    {
      "metadata": {
        "id": "ynuVqut6gQLE",
        "colab_type": "code",
        "colab": {}
      },
      "cell_type": "code",
      "source": [
        "#We will work with this dataset with the x feature-object matrix and values of the y target variable.\n",
        "array=sampleset.values\n",
        "x=array[:,0:7]\n",
        "y=array[:,7]"
      ],
      "execution_count": 0,
      "outputs": []
    },
    {
      "metadata": {
        "id": "wz4-1uRbgQLI",
        "colab_type": "code",
        "colab": {}
      },
      "cell_type": "code",
      "source": [
        "#Cross validation\n",
        "from sklearn import cross_validation\n",
        "from sklearn.metrics import confusion_matrix\n",
        "from sklearn.metrics import classification_report\n",
        "## Spliting of training dataset into 70% training data and 30% testing data randomly\n",
        "features_train, features_test, labels_train, labels_test = cross_validation.train_test_split(x, y, test_size=0.3, random_state=42)"
      ],
      "execution_count": 0,
      "outputs": []
    },
    {
      "metadata": {
        "id": "IPptQ3uzgQLL",
        "colab_type": "code",
        "colab": {}
      },
      "cell_type": "code",
      "source": [
        "#Array for storing classifier Models and their respective scores\n",
        "models=[]\n",
        "scores=[]"
      ],
      "execution_count": 0,
      "outputs": []
    },
    {
      "metadata": {
        "id": "2lRVq3rTgQLO",
        "colab_type": "code",
        "outputId": "fbbeea4c-43cf-40f5-c53d-df109bf056c0",
        "colab": {}
      },
      "cell_type": "code",
      "source": [
        "#Naive Bayes Classifier\n",
        "from sklearn import metrics\n",
        "from sklearn import tree\n",
        "from sklearn.naive_bayes import GaussianNB\n",
        "from sklearn.metrics import accuracy_score\n",
        "from sklearn.metrics import classification_report\n",
        "from sklearn.metrics import confusion_matrix\n",
        "from sklearn.metrics import mean_squared_error\n",
        "clf = GaussianNB()\n",
        "clf.fit(features_train, labels_train)\n",
        "prediction = clf.predict(features_test)\n",
        "acc=accuracy_score(prediction, labels_test)\n",
        "print(\"------------------------------------------\")\n",
        "print(\"Accuracy = \",acc*100,\" %\")\n",
        "matrix = confusion_matrix(labels_test, prediction)\n",
        "print(matrix)\n",
        "report = classification_report(labels_test, prediction)\n",
        "print(report)\n",
        "\n",
        "from sklearn.metrics import roc_curve\n",
        "from sklearn.metrics import auc\n",
        "from sklearn import metrics\n",
        "fpr, tpr, threshold = metrics.roc_curve(labels_test, prediction)\n",
        "roc_auc = metrics.auc(fpr, tpr)\n",
        "import matplotlib.pyplot as plt\n",
        "plt.title('Receiver Operating Characteristic')\n",
        "plt.plot(fpr, tpr, 'b', label = 'AUC = %0.2f' % roc_auc)\n",
        "plt.legend(loc = 'lower right')\n",
        "plt.plot([0, 1], [0, 1],'r--')\n",
        "plt.xlim([0, 1])\n",
        "plt.ylim([0, 1])\n",
        "plt.ylabel('True Positive Rate')\n",
        "plt.xlabel('False Positive Rate')\n",
        "plt.show()\n",
        "\n",
        "models.append(\"Naive Bayes Classifier\")\n",
        "scores.append(acc*100)"
      ],
      "execution_count": 0,
      "outputs": [
        {
          "output_type": "stream",
          "text": [
            "------------------------------------------\n",
            "Accuracy =  98.47228284591881  %\n",
            "[[ 7028   204]\n",
            " [  356 29068]]\n",
            "             precision    recall  f1-score   support\n",
            "\n",
            "        0.0       0.95      0.97      0.96      7232\n",
            "        1.0       0.99      0.99      0.99     29424\n",
            "\n",
            "avg / total       0.98      0.98      0.98     36656\n",
            "\n"
          ],
          "name": "stdout"
        },
        {
          "output_type": "display_data",
          "data": {
            "image/png": "[encoded data removed]",
            "text/plain": [
              "<Figure size 432x288 with 1 Axes>"
            ]
          },
          "metadata": {
            "tags": [],
            "needs_background": "light"
          }
        }
      ]
    },
    {
      "metadata": {
        "id": "F_PrE9C_gQLT",
        "colab_type": "code",
        "outputId": "45f57d57-a3b4-4042-984f-bb66aa2c0911",
        "colab": {}
      },
      "cell_type": "code",
      "source": [
        "#Decision Tree Classisfier \n",
        "from sklearn import tree\n",
        "clf = tree.DecisionTreeClassifier(splitter = \"random\", criterion = \"entropy\", max_depth = 20)\n",
        " \n",
        "clf.fit(features_train, labels_train)\n",
        "prediction = clf.predict(features_test)\n",
        "## Computing accuracy\n",
        "from sklearn.metrics import accuracy_score\n",
        "acc=accuracy_score(prediction, labels_test)\n",
        "print(\"------------------------------------------\")\n",
        "print(\"Accuracy = \",acc*100,\" %\")\n",
        "matrix = confusion_matrix(labels_test, prediction)\n",
        "print(matrix)\n",
        "report = classification_report(labels_test, prediction)\n",
        "print(report)\n",
        "\n",
        "\n",
        "from sklearn.metrics import roc_curve\n",
        "from sklearn.metrics import auc\n",
        "from sklearn import metrics\n",
        "fpr, tpr, threshold = metrics.roc_curve(labels_test, prediction)\n",
        "roc_auc = metrics.auc(fpr, tpr)\n",
        "import matplotlib.pyplot as plt\n",
        "plt.title('Receiver Operating Characteristic')\n",
        "plt.plot(fpr, tpr, 'b', label = 'AUC = %0.2f' % roc_auc)\n",
        "plt.legend(loc = 'lower right')\n",
        "plt.plot([0, 1], [0, 1],'r--')\n",
        "plt.xlim([0, 1])\n",
        "plt.ylim([0, 1])\n",
        "plt.ylabel('True Positive Rate')\n",
        "plt.xlabel('False Positive Rate')\n",
        "plt.show()\n",
        "\n",
        "models.append(\"Decision tree Classifier\")\n",
        "scores.append(acc*100)"
      ],
      "execution_count": 0,
      "outputs": [
        {
          "output_type": "stream",
          "text": [
            "------------------------------------------\n",
            "Accuracy =  99.93998254037538  %\n",
            "[[ 7222    10]\n",
            " [   12 29412]]\n",
            "             precision    recall  f1-score   support\n",
            "\n",
            "        0.0       1.00      1.00      1.00      7232\n",
            "        1.0       1.00      1.00      1.00     29424\n",
            "\n",
            "avg / total       1.00      1.00      1.00     36656\n",
            "\n"
          ],
          "name": "stdout"
        },
        {
          "output_type": "display_data",
          "data": {
            "image/png": "[encoded data removed]",
            "text/plain": [
              "<Figure size 432x288 with 1 Axes>"
            ]
          },
          "metadata": {
            "tags": [],
            "needs_background": "light"
          }
        }
      ]
    },
    {
      "metadata": {
        "id": "YGV1N_47gQLX",
        "colab_type": "code",
        "outputId": "a30e5559-92a8-4c25-cafc-79035ded98ea",
        "colab": {}
      },
      "cell_type": "code",
      "source": [
        "#Random Forest Classifier\n",
        "from sklearn import metrics\n",
        "from sklearn.ensemble import RandomForestClassifier\n",
        "clf = RandomForestClassifier()\n",
        "clf.fit(features_train, labels_train)\n",
        "prediction = clf.predict(features_test)\n",
        "acc=accuracy_score(prediction, labels_test)\n",
        "print(\"------------------------------------------\")\n",
        "print(\"Accuracy = \",acc*100,\" %\")\n",
        "matrix = confusion_matrix(labels_test, prediction)\n",
        "print(matrix)\n",
        "\n",
        "report = classification_report(labels_test, prediction)\n",
        "print(report)\n",
        "\n",
        "\n",
        "from sklearn.metrics import roc_curve\n",
        "from sklearn.metrics import auc\n",
        "from sklearn import metrics\n",
        "fpr, tpr, threshold = metrics.roc_curve(labels_test, prediction)\n",
        "roc_auc = metrics.auc(fpr, tpr)\n",
        "import matplotlib.pyplot as plt\n",
        "plt.title('Receiver Operating Characteristic')\n",
        "plt.plot(fpr, tpr, 'b', label = 'AUC = %0.2f' % roc_auc)\n",
        "plt.legend(loc = 'lower right')\n",
        "plt.plot([0, 1], [0, 1],'r--')\n",
        "plt.xlim([0, 1])\n",
        "plt.ylim([0, 1])\n",
        "plt.ylabel('True Positive Rate')\n",
        "plt.xlabel('False Positive Rate')\n",
        "plt.show()\n",
        "\n",
        "models.append(\"Random Forest Classifier\")\n",
        "scores.append(acc*100)\n",
        "\n",
        "\n",
        "#K-Nearest Neighbour Classifier\n",
        "from sklearn import metrics\n",
        "from sklearn.neighbors import KNeighborsClassifier\n",
        "# fit a k-nearest neighbor model to the data\n",
        "clf = KNeighborsClassifier()\n",
        "clf.fit(features_train, labels_train)\n",
        "prediction = clf.predict(features_test)\n",
        "acc=accuracy_score(prediction, labels_test)\n",
        "print(\"------------------------------------------\")\n",
        "print(\"Accuracy = \",acc*100,\" %\")\n",
        "matrix = confusion_matrix(labels_test, prediction)\n",
        "print(matrix)\n",
        "\n",
        "report = classification_report(labels_test, prediction)\n",
        "print(report)\n",
        "\n",
        "\n",
        "from sklearn.metrics import roc_curve\n",
        "from sklearn.metrics import auc\n",
        "from sklearn import metrics\n",
        "fpr, tpr, threshold = metrics.roc_curve(labels_test, prediction)\n",
        "roc_auc = metrics.auc(fpr, tpr)\n",
        "import matplotlib.pyplot as plt\n",
        "plt.title('Receiver Operating Characteristic')\n",
        "plt.plot(fpr, tpr, 'b', label = 'AUC = %0.2f' % roc_auc)\n",
        "plt.legend(loc = 'lower right')\n",
        "plt.plot([0, 1], [0, 1],'r--')\n",
        "plt.xlim([0, 1])\n",
        "plt.ylim([0, 1])\n",
        "plt.ylabel('True Positive Rate')\n",
        "plt.xlabel('False Positive Rate')\n",
        "plt.show()\n",
        "\n",
        "models.append(\"K-Nearest neighbour Classifier\")\n",
        "scores.append(acc*100)"
      ],
      "execution_count": 0,
      "outputs": [
        {
          "output_type": "stream",
          "text": [
            "------------------------------------------\n",
            "Accuracy =  99.98090353557399  %\n",
            "[[ 7231     1]\n",
            " [    6 29418]]\n",
            "             precision    recall  f1-score   support\n",
            "\n",
            "        0.0       1.00      1.00      1.00      7232\n",
            "        1.0       1.00      1.00      1.00     29424\n",
            "\n",
            "avg / total       1.00      1.00      1.00     36656\n",
            "\n"
          ],
          "name": "stdout"
        },
        {
          "output_type": "display_data",
          "data": {
            "image/png": "[encoded data removed]",
            "text/plain": [
              "<Figure size 432x288 with 1 Axes>"
            ]
          },
          "metadata": {
            "tags": [],
            "needs_background": "light"
          }
        },
        {
          "output_type": "stream",
          "text": [
            "------------------------------------------\n",
            "Accuracy =  99.97271933653427  %\n",
            "[[ 7229     3]\n",
            " [    7 29417]]\n",
            "             precision    recall  f1-score   support\n",
            "\n",
            "        0.0       1.00      1.00      1.00      7232\n",
            "        1.0       1.00      1.00      1.00     29424\n",
            "\n",
            "avg / total       1.00      1.00      1.00     36656\n",
            "\n"
          ],
          "name": "stdout"
        },
        {
          "output_type": "display_data",
          "data": {
            "image/png": "[encoded data removed]",
            "text/plain": [
              "<Figure size 432x288 with 1 Axes>"
            ]
          },
          "metadata": {
            "tags": [],
            "needs_background": "light"
          }
        }
      ]
    },
    {
      "metadata": {
        "id": "q8Mv7CNOgQLf",
        "colab_type": "code",
        "outputId": "6c16d5d8-d254-47fd-b4e3-db9d77a46317",
        "colab": {}
      },
      "cell_type": "code",
      "source": [
        "#Making a dataframe that consists of models and their respective scores\n",
        "dat = pd.DataFrame(index=[1,2,3,4])\n",
        "dat[\"Model\"] = models\n",
        "dat[\"Score\"] = scores\n",
        "dat.set_index(\"Model\")"
      ],
      "execution_count": 0,
      "outputs": [
        {
          "output_type": "execute_result",
          "data": {
            "text/html": [
              "<div>\n",
              "<style scoped>\n",
              "    .dataframe tbody tr th:only-of-type {\n",
              "        vertical-align: middle;\n",
              "    }\n",
              "\n",
              "    .dataframe tbody tr th {\n",
              "        vertical-align: top;\n",
              "    }\n",
              "\n",
              "    .dataframe thead th {\n",
              "        text-align: right;\n",
              "    }\n",
              "</style>\n",
              "<table border=\"1\" class=\"dataframe\">\n",
              "  <thead>\n",
              "    <tr style=\"text-align: right;\">\n",
              "      <th></th>\n",
              "      <th>Score</th>\n",
              "    </tr>\n",
              "    <tr>\n",
              "      <th>Model</th>\n",
              "      <th></th>\n",
              "    </tr>\n",
              "  </thead>\n",
              "  <tbody>\n",
              "    <tr>\n",
              "      <th>Naive Bayes Classifier</th>\n",
              "      <td>98.472283</td>\n",
              "    </tr>\n",
              "    <tr>\n",
              "      <th>Decision tree Classifier</th>\n",
              "      <td>99.939983</td>\n",
              "    </tr>\n",
              "    <tr>\n",
              "      <th>Random Forest Classifier</th>\n",
              "      <td>99.980904</td>\n",
              "    </tr>\n",
              "    <tr>\n",
              "      <th>K-Nearest neighbour Classifier</th>\n",
              "      <td>99.972719</td>\n",
              "    </tr>\n",
              "  </tbody>\n",
              "</table>\n",
              "</div>"
            ],
            "text/plain": [
              "                                    Score\n",
              "Model                                    \n",
              "Naive Bayes Classifier          98.472283\n",
              "Decision tree Classifier        99.939983\n",
              "Random Forest Classifier        99.980904\n",
              "K-Nearest neighbour Classifier  99.972719"
            ]
          },
          "metadata": {
            "tags": []
          },
          "execution_count": 28
        }
      ]
    },
    {
      "metadata": {
        "id": "TEfZyWHEgQJj",
        "colab_type": "code",
        "colab": {}
      },
      "cell_type": "code",
      "source": [
        "#Finding missing data\n",
        "def num_missing(x):\n",
        "  return sum(x.isnull())\n",
        "\n",
        "#Applying per column:\n",
        "print(\"Missing values per column:\")\n",
        "print(data.apply(num_missing, axis=0)) #axis=0 defines that function is to be applied on each column"
      ],
      "execution_count": 0,
      "outputs": []
    }
  ]
}